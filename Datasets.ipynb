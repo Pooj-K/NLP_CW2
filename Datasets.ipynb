{
  "nbformat": 4,
  "nbformat_minor": 0,
  "metadata": {
    "colab": {
      "provenance": []
    },
    "kernelspec": {
      "name": "python3",
      "display_name": "Python 3"
    },
    "language_info": {
      "name": "python"
    }
  },
  "cells": [
    {
      "cell_type": "code",
      "execution_count": 1,
      "metadata": {
        "colab": {
          "base_uri": "https://localhost:8080/"
        },
        "id": "vj9a0KeMENXC",
        "outputId": "6b263b18-3da9-4985-87bc-313ca07cd389"
      },
      "outputs": [
        {
          "output_type": "stream",
          "name": "stdout",
          "text": [
            "Collecting datasets\n",
            "  Downloading datasets-3.3.2-py3-none-any.whl.metadata (19 kB)\n",
            "Requirement already satisfied: filelock in /usr/local/lib/python3.11/dist-packages (from datasets) (3.17.0)\n",
            "Requirement already satisfied: numpy>=1.17 in /usr/local/lib/python3.11/dist-packages (from datasets) (1.26.4)\n",
            "Requirement already satisfied: pyarrow>=15.0.0 in /usr/local/lib/python3.11/dist-packages (from datasets) (18.1.0)\n",
            "Collecting dill<0.3.9,>=0.3.0 (from datasets)\n",
            "  Downloading dill-0.3.8-py3-none-any.whl.metadata (10 kB)\n",
            "Requirement already satisfied: pandas in /usr/local/lib/python3.11/dist-packages (from datasets) (2.2.2)\n",
            "Requirement already satisfied: requests>=2.32.2 in /usr/local/lib/python3.11/dist-packages (from datasets) (2.32.3)\n",
            "Requirement already satisfied: tqdm>=4.66.3 in /usr/local/lib/python3.11/dist-packages (from datasets) (4.67.1)\n",
            "Collecting xxhash (from datasets)\n",
            "  Downloading xxhash-3.5.0-cp311-cp311-manylinux_2_17_x86_64.manylinux2014_x86_64.whl.metadata (12 kB)\n",
            "Collecting multiprocess<0.70.17 (from datasets)\n",
            "  Downloading multiprocess-0.70.16-py311-none-any.whl.metadata (7.2 kB)\n",
            "Requirement already satisfied: fsspec<=2024.12.0,>=2023.1.0 in /usr/local/lib/python3.11/dist-packages (from fsspec[http]<=2024.12.0,>=2023.1.0->datasets) (2024.10.0)\n",
            "Requirement already satisfied: aiohttp in /usr/local/lib/python3.11/dist-packages (from datasets) (3.11.13)\n",
            "Requirement already satisfied: huggingface-hub>=0.24.0 in /usr/local/lib/python3.11/dist-packages (from datasets) (0.28.1)\n",
            "Requirement already satisfied: packaging in /usr/local/lib/python3.11/dist-packages (from datasets) (24.2)\n",
            "Requirement already satisfied: pyyaml>=5.1 in /usr/local/lib/python3.11/dist-packages (from datasets) (6.0.2)\n",
            "Requirement already satisfied: aiohappyeyeballs>=2.3.0 in /usr/local/lib/python3.11/dist-packages (from aiohttp->datasets) (2.4.6)\n",
            "Requirement already satisfied: aiosignal>=1.1.2 in /usr/local/lib/python3.11/dist-packages (from aiohttp->datasets) (1.3.2)\n",
            "Requirement already satisfied: attrs>=17.3.0 in /usr/local/lib/python3.11/dist-packages (from aiohttp->datasets) (25.1.0)\n",
            "Requirement already satisfied: frozenlist>=1.1.1 in /usr/local/lib/python3.11/dist-packages (from aiohttp->datasets) (1.5.0)\n",
            "Requirement already satisfied: multidict<7.0,>=4.5 in /usr/local/lib/python3.11/dist-packages (from aiohttp->datasets) (6.1.0)\n",
            "Requirement already satisfied: propcache>=0.2.0 in /usr/local/lib/python3.11/dist-packages (from aiohttp->datasets) (0.3.0)\n",
            "Requirement already satisfied: yarl<2.0,>=1.17.0 in /usr/local/lib/python3.11/dist-packages (from aiohttp->datasets) (1.18.3)\n",
            "Requirement already satisfied: typing-extensions>=3.7.4.3 in /usr/local/lib/python3.11/dist-packages (from huggingface-hub>=0.24.0->datasets) (4.12.2)\n",
            "Requirement already satisfied: charset-normalizer<4,>=2 in /usr/local/lib/python3.11/dist-packages (from requests>=2.32.2->datasets) (3.4.1)\n",
            "Requirement already satisfied: idna<4,>=2.5 in /usr/local/lib/python3.11/dist-packages (from requests>=2.32.2->datasets) (3.10)\n",
            "Requirement already satisfied: urllib3<3,>=1.21.1 in /usr/local/lib/python3.11/dist-packages (from requests>=2.32.2->datasets) (2.3.0)\n",
            "Requirement already satisfied: certifi>=2017.4.17 in /usr/local/lib/python3.11/dist-packages (from requests>=2.32.2->datasets) (2025.1.31)\n",
            "Requirement already satisfied: python-dateutil>=2.8.2 in /usr/local/lib/python3.11/dist-packages (from pandas->datasets) (2.8.2)\n",
            "Requirement already satisfied: pytz>=2020.1 in /usr/local/lib/python3.11/dist-packages (from pandas->datasets) (2025.1)\n",
            "Requirement already satisfied: tzdata>=2022.7 in /usr/local/lib/python3.11/dist-packages (from pandas->datasets) (2025.1)\n",
            "Requirement already satisfied: six>=1.5 in /usr/local/lib/python3.11/dist-packages (from python-dateutil>=2.8.2->pandas->datasets) (1.17.0)\n",
            "Downloading datasets-3.3.2-py3-none-any.whl (485 kB)\n",
            "\u001b[2K   \u001b[90m━━━━━━━━━━━━━━━━━━━━━━━━━━━━━━━━━━━━━━━━\u001b[0m \u001b[32m485.4/485.4 kB\u001b[0m \u001b[31m8.7 MB/s\u001b[0m eta \u001b[36m0:00:00\u001b[0m\n",
            "\u001b[?25hDownloading dill-0.3.8-py3-none-any.whl (116 kB)\n",
            "\u001b[2K   \u001b[90m━━━━━━━━━━━━━━━━━━━━━━━━━━━━━━━━━━━━━━━━\u001b[0m \u001b[32m116.3/116.3 kB\u001b[0m \u001b[31m8.2 MB/s\u001b[0m eta \u001b[36m0:00:00\u001b[0m\n",
            "\u001b[?25hDownloading multiprocess-0.70.16-py311-none-any.whl (143 kB)\n",
            "\u001b[2K   \u001b[90m━━━━━━━━━━━━━━━━━━━━━━━━━━━━━━━━━━━━━━━━\u001b[0m \u001b[32m143.5/143.5 kB\u001b[0m \u001b[31m10.2 MB/s\u001b[0m eta \u001b[36m0:00:00\u001b[0m\n",
            "\u001b[?25hDownloading xxhash-3.5.0-cp311-cp311-manylinux_2_17_x86_64.manylinux2014_x86_64.whl (194 kB)\n",
            "\u001b[2K   \u001b[90m━━━━━━━━━━━━━━━━━━━━━━━━━━━━━━━━━━━━━━━━\u001b[0m \u001b[32m194.8/194.8 kB\u001b[0m \u001b[31m12.2 MB/s\u001b[0m eta \u001b[36m0:00:00\u001b[0m\n",
            "\u001b[?25hInstalling collected packages: xxhash, dill, multiprocess, datasets\n",
            "Successfully installed datasets-3.3.2 dill-0.3.8 multiprocess-0.70.16 xxhash-3.5.0\n"
          ]
        }
      ],
      "source": [
        "!pip install datasets"
      ]
    },
    {
      "cell_type": "code",
      "source": [
        "!pip install sentencepiece"
      ],
      "metadata": {
        "colab": {
          "base_uri": "https://localhost:8080/"
        },
        "id": "f6ZLqPp9FS_I",
        "outputId": "b3e0cadc-08a1-4e44-d108-a227776deb0f"
      },
      "execution_count": 2,
      "outputs": [
        {
          "output_type": "stream",
          "name": "stdout",
          "text": [
            "Requirement already satisfied: sentencepiece in /usr/local/lib/python3.11/dist-packages (0.2.0)\n"
          ]
        }
      ]
    },
    {
      "cell_type": "code",
      "source": [
        "from google.colab import drive\n",
        "import pandas as pd\n",
        "\n",
        "drive.mount('/content/drive')  # Mount Google Drive"
      ],
      "metadata": {
        "colab": {
          "base_uri": "https://localhost:8080/"
        },
        "id": "1scUZ4u7FPnZ",
        "outputId": "0f7c456a-bf45-49b4-9d0a-4f30338d92ff"
      },
      "execution_count": 1,
      "outputs": [
        {
          "output_type": "stream",
          "name": "stdout",
          "text": [
            "Mounted at /content/drive\n"
          ]
        }
      ]
    },
    {
      "cell_type": "code",
      "source": [
        "import os\n",
        "\n",
        "# Path to the folder containing multiple .json files\n",
        "FOLDER_PATH = '/content/drive/MyDrive/adanews'\n",
        "\n",
        "# List all files\n",
        "all_files = os.listdir(FOLDER_PATH)\n",
        "json_files1 = [f for f in all_files if f.endswith('.json')]\n",
        "\n",
        "print(\"Number of JSON files found:\", len(json_files1))\n",
        "print(json_files1[:5])  # show first few filenames\n"
      ],
      "metadata": {
        "colab": {
          "base_uri": "https://localhost:8080/"
        },
        "id": "lMS8WdnwFXw_",
        "outputId": "adcce167-16a0-49d5-c0d6-018f46c06a82"
      },
      "execution_count": 2,
      "outputs": [
        {
          "output_type": "stream",
          "name": "stdout",
          "text": [
            "Number of JSON files found: 6595\n",
            "['358788.json', '358764.json', '358780.json', '358790.json', '358785.json']\n"
          ]
        }
      ]
    },
    {
      "cell_type": "code",
      "source": [
        "import json\n",
        "import os\n",
        "\n",
        "# Check just the first JSON file\n",
        "test_file = json_files1[0]\n",
        "test_path = os.path.join(FOLDER_PATH, test_file)\n",
        "\n",
        "with open(test_path, 'r', encoding='utf-8') as f:\n",
        "    content = f.read()\n",
        "\n",
        "print(\"Sample raw JSON file content:\\n\", content[:1000], \"...\\n\")  # print first 1000 chars\n"
      ],
      "metadata": {
        "colab": {
          "base_uri": "https://localhost:8080/"
        },
        "id": "pSDvYZV7FiFH",
        "outputId": "8acd6bb4-e2e1-47dd-82a0-c394f39cdb6e"
      },
      "execution_count": 4,
      "outputs": [
        {
          "output_type": "stream",
          "name": "stdout",
          "text": [
            "Sample raw JSON file content:\n",
            " {\"Source\": \"Ada News\", \"Timestamp\": \"11 03 2020\", \"Headline\": \"උෂ්ණත්වය නිසා කොවිඩ් නැතිවෙනද කියා තවමත් සොයාගෙන නෑ\", \"News Content\": \"උෂ්ණත්වය ඉහළ යන විට කොවිඩ් 19 වසංගතය අතුරුදන්වන්නේ නැත්ද යන්න පිළිබඳව තවමත් සොයාගෙන නොමැති බව චීන මාධ්‍ය තොරතුරු වාර්තා කරයි. පසුගිය සිකුරාදා දිනයේදී ලෝක සෞඛ්‍ය සංවිධානයේ හදිසි අවස්ථා වැඩසටහනේ විධායක අධ්‍යක්ෂ මයිකල් රයන් ජිනීවාහි දිනපතා පැවති සාකච්ඡාවකට එක්වෙමින් කියා සිටියේ ගිම්හානයේදී COVID-19  වෛරසය අතුරුදහන් වනු ඇති බවට කිසිදු සාක්ෂියක් නොමැති බවයි. \\\"විවිධ දේශගුණික තත්ත්වයන් තුළ වෛරසයේ ක්‍රියාකාරිත්වය හෝ හැසිරීම කුමක් වේදැයි අපි තවමත් දන්නේ නෑ\\\" යැයි රයන් පැවසීය. හාවඩ්හි වසංගත රෝගවිද්‍යාඥ මාක් ලිප්සිච් ද කාලගුණයේ වෙනස්වීම් වෛරසය පැතිරෙන ආකාරයෙහි විශාල වෙනසක් කරනු ඇතැයි උපකල්පනය නොකර බව පැවැසීය. පිකිං විශ්ව විද්‍යාලයේ මහජන සෞඛ්‍ය විද්‍යාලයේ නියෝජ්‍ය අධ්‍යක්ෂ වැන්ග් පියු පැවසුවේ උණුසුම් උෂ්ණත්වය වෛරස් සම්ප්‍රේෂණයට අවාසිදායක වුවත් එය ගණන් නොගත යුතු බව පැවැසීය. මේ අතර අධික උෂ්ණත්වය පවතින රටක් වීම මත ශ්‍රී ලංකාවේ %කෝවිඩ්-19^ වෛරසය ව්‍යාප්ත නොවන බවට පැතිර ...\n",
            "\n"
          ]
        }
      ]
    },
    {
      "cell_type": "code",
      "source": [
        "import os\n",
        "import json\n",
        "\n",
        "all_lines = []\n",
        "\n",
        "for json_file in json_files1:\n",
        "    file_path = os.path.join(FOLDER_PATH, json_file)\n",
        "    with open(file_path, 'r', encoding='utf-8') as f:\n",
        "        data = json.load(f)  # Expecting a single dict per file\n",
        "        # For instance:\n",
        "        text = data.get(\"News Content\", \"\")\n",
        "\n",
        "        if text.strip():\n",
        "            all_lines.append(text.strip())\n",
        "\n",
        "print(\"Total text entries extracted:\", len(all_lines))\n",
        "print(\"Example entry:\", all_lines[0] if all_lines else \"No data\")\n"
      ],
      "metadata": {
        "colab": {
          "base_uri": "https://localhost:8080/"
        },
        "id": "ffQBnDC_FkHw",
        "outputId": "bcd5aead-5b7d-4f26-851c-7337b4d37d88"
      },
      "execution_count": 5,
      "outputs": [
        {
          "output_type": "stream",
          "name": "stdout",
          "text": [
            "Total text entries extracted: 6435\n",
            "Example entry: උෂ්ණත්වය ඉහළ යන විට කොවිඩ් 19 වසංගතය අතුරුදන්වන්නේ නැත්ද යන්න පිළිබඳව තවමත් සොයාගෙන නොමැති බව චීන මාධ්‍ය තොරතුරු වාර්තා කරයි. පසුගිය සිකුරාදා දිනයේදී ලෝක සෞඛ්‍ය සංවිධානයේ හදිසි අවස්ථා වැඩසටහනේ විධායක අධ්‍යක්ෂ මයිකල් රයන් ජිනීවාහි දිනපතා පැවති සාකච්ඡාවකට එක්වෙමින් කියා සිටියේ ගිම්හානයේදී COVID-19  වෛරසය අතුරුදහන් වනු ඇති බවට කිසිදු සාක්ෂියක් නොමැති බවයි. \"විවිධ දේශගුණික තත්ත්වයන් තුළ වෛරසයේ ක්‍රියාකාරිත්වය හෝ හැසිරීම කුමක් වේදැයි අපි තවමත් දන්නේ නෑ\" යැයි රයන් පැවසීය. හාවඩ්හි වසංගත රෝගවිද්‍යාඥ මාක් ලිප්සිච් ද කාලගුණයේ වෙනස්වීම් වෛරසය පැතිරෙන ආකාරයෙහි විශාල වෙනසක් කරනු ඇතැයි උපකල්පනය නොකර බව පැවැසීය. පිකිං විශ්ව විද්‍යාලයේ මහජන සෞඛ්‍ය විද්‍යාලයේ නියෝජ්‍ය අධ්‍යක්ෂ වැන්ග් පියු පැවසුවේ උණුසුම් උෂ්ණත්වය වෛරස් සම්ප්‍රේෂණයට අවාසිදායක වුවත් එය ගණන් නොගත යුතු බව පැවැසීය. මේ අතර අධික උෂ්ණත්වය පවතින රටක් වීම මත ශ්‍රී ලංකාවේ %කෝවිඩ්-19^ වෛරසය ව්‍යාප්ත නොවන බවට පැතිරෙන මත විද්‍යාත්මක නොවන බව සෞඛ්‍ය ප්‍රවර්ධන කාර්යාංශයේ නියෝජ්‍ය අධ්‍යක්ෂිකා ප්‍රජා වෛද්‍ය විශේෂඥ ප්‍රියංගා රණසිංහ මහත්මියද සඳහන් කළාය. හොඳ සෞඛ්‍ය පුරුදු ඇතිකර ගැනීමෙන් වෛරසය පැතිරීම වළක්වා ගත හැකි බවත් ඇය පැවසූවාය. සෞඛ්‍ය ප්‍රවර්ධන කාර්යාංශයේ පසුගියදා පැවැති (03දා) පැවැති මාධ්‍ය හමුවකදී ඇය මේ බව පැවසූවාය. මෙහිදී වැඩිදුරටත් අදහස් දැක්වූ වෛද්‍යවරිය, “COVID-19 නැත්නම් කොරෝනා වෛරස පිළිබඳ ලෝකයම දන්නේ තවම මාස දෙකක තුනක කාලයක් පමණයි. වෛරසය පිළිබඳ විවිධ පර්යේෂණ ලෝකයේ මේ වනවිටත් සිදු කරනු ලබනවා. නමුත් මේ දක්වා සිදුකරනු ලැබූ පර්යේෂණ මගින් උෂ්ණත්වය වැඩි නිසා අපේ වගේ රටවල කොරෝනා වෛරසය ව්‍යාප්ත නොවන බවට තහවුරු කරගෙන නැහැ. අපේ සෞඛ්‍ය අංශ හා විවිධ අංශවලින් ගෙන ඇති පියවරයන් නිසා අපි දැනට ආරක්ෂිත වෙලා සිටිනවා. නමුත් ජාත්‍යන්තර සංචාරය කියන දේ අපිට නවත්වන්නට පුළුවන්කමක් නැහැ. මේවත් එක්ක ඕනෑම රටකට ඕනෑම වෙලාවක මේ වෛරසය ඇතුළු විය හැකියි. මේ නිසයි සෞඛ්‍ය අමාත්‍යාංශ සියලුම මට්ටමෙන් විවිධ පියවර ගෙන තිබෙන්නේ. මෙහිදී ජනතාව ලෙස අපිට වගකීම් රැසක් තිබෙනවා. කොරෝනා වෛරසය බෝවෙන්නේ කහින විට හා කිවිසුම් යවනවිට විසිවෙන සෙම බිඳිති මගින්. එසේනම් අපි හොඳ සෞඛ්‍ය පුරුදු අනුගමනය කරනවා නම් අපිට මෙම රෝගය බෝවන්නට ඇති හැකියාව අවමයි. මේ නිසා රෝගියෙක් කහින විට කිවිසුම් යන විට, ඉවත දැමිය හැකි ටිෂූ භාවිත කිරීමත් එම ටිෂූ නිසි පරිදි ආරක්ෂිතව ඉවත් කිරීමත් සිදුකළ යුතුයි. තමන් ළඟ ටිෂූ කඩදාසි නොමැති අවස්ථාවක වැළමිටේ ඇතුළු පැත්තෙන් කිවිසීමේදී හා කහින විට නහය හා කට වසාගත යුතුයි. එමෙන්ම හොඳින් අත සේදීම පුරුද්දක් බවට පත් කර ගත යුතුයි. එයට හේතු වන්නේ යම් රෝගියෙක් කිවිසුම් යවන අවස්ථාවේ හෝ කහින අවස්ථාවේ පිටවන සෙම බිඳිති යම් පෘෂ්ඨයක තැවරී ඇති විටක එය අත ගෑවෙන පුද්ගලයෙක් තමන්ගේ මුහුණ අත ගෑම සිදුකළ විටද මෙම රෝගය බෝවන බැවින්. පොදු ස්ථානවල සිටින විට මුහුණ හා ඇස් අතගෑමෙන් වැළකීමටද පුරුදු විය යුතුයි. මෙවන් පුරුදුවලට අපි හුරු වීමෙන් තවදුරටත් පැතිරීම වළක්වා ගත හැකියි.” විදෙස් වාර්තා - චයිනා ඩේලි පුවත් සේවයෙනි\n"
          ]
        }
      ]
    },
    {
      "cell_type": "code",
      "source": [
        "import re\n",
        "\n",
        "def basic_cleaning(text):\n",
        "    # Example cleaning: remove digits, common punctuation\n",
        "    text = re.sub(r'(?<!\\w)(\\d{2,4})-(\\d{1,4})(?!\\w)', r'\\1-\\2', text)  # Keeps COVID-19, Windows 11\n",
        "    text = re.sub(r'[!\\\"#$%&\\'()*+,\\-./:;<=>?@\\[\\\\\\]^_`{|}~]', '', text)\n",
        "    text = text.strip()\n",
        "    # If needed, apply Unicode normalization for Sinhala\n",
        "    return text\n",
        "\n",
        "cleaned_lines = [basic_cleaning(t) for t in all_lines if t.strip()]\n",
        "\n",
        "print(\"Number of cleaned lines:\", len(cleaned_lines))\n",
        "print(\"Sample cleaned line:\\n\", cleaned_lines[0])\n"
      ],
      "metadata": {
        "colab": {
          "base_uri": "https://localhost:8080/"
        },
        "id": "e_JpopUnFmC3",
        "outputId": "a2a80ebd-3136-4e3c-8d7e-a6f2441ec18b"
      },
      "execution_count": 6,
      "outputs": [
        {
          "output_type": "stream",
          "name": "stdout",
          "text": [
            "Number of cleaned lines: 6435\n",
            "Sample cleaned line:\n",
            " උෂ්ණත්වය ඉහළ යන විට කොවිඩ් 19 වසංගතය අතුරුදන්වන්නේ නැත්ද යන්න පිළිබඳව තවමත් සොයාගෙන නොමැති බව චීන මාධ්‍ය තොරතුරු වාර්තා කරයි පසුගිය සිකුරාදා දිනයේදී ලෝක සෞඛ්‍ය සංවිධානයේ හදිසි අවස්ථා වැඩසටහනේ විධායක අධ්‍යක්ෂ මයිකල් රයන් ජිනීවාහි දිනපතා පැවති සාකච්ඡාවකට එක්වෙමින් කියා සිටියේ ගිම්හානයේදී COVID19  වෛරසය අතුරුදහන් වනු ඇති බවට කිසිදු සාක්ෂියක් නොමැති බවයි විවිධ දේශගුණික තත්ත්වයන් තුළ වෛරසයේ ක්‍රියාකාරිත්වය හෝ හැසිරීම කුමක් වේදැයි අපි තවමත් දන්නේ නෑ යැයි රයන් පැවසීය හාවඩ්හි වසංගත රෝගවිද්‍යාඥ මාක් ලිප්සිච් ද කාලගුණයේ වෙනස්වීම් වෛරසය පැතිරෙන ආකාරයෙහි විශාල වෙනසක් කරනු ඇතැයි උපකල්පනය නොකර බව පැවැසීය පිකිං විශ්ව විද්‍යාලයේ මහජන සෞඛ්‍ය විද්‍යාලයේ නියෝජ්‍ය අධ්‍යක්ෂ වැන්ග් පියු පැවසුවේ උණුසුම් උෂ්ණත්වය වෛරස් සම්ප්‍රේෂණයට අවාසිදායක වුවත් එය ගණන් නොගත යුතු බව පැවැසීය මේ අතර අධික උෂ්ණත්වය පවතින රටක් වීම මත ශ්‍රී ලංකාවේ කෝවිඩ්19 වෛරසය ව්‍යාප්ත නොවන බවට පැතිරෙන මත විද්‍යාත්මක නොවන බව සෞඛ්‍ය ප්‍රවර්ධන කාර්යාංශයේ නියෝජ්‍ය අධ්‍යක්ෂිකා ප්‍රජා වෛද්‍ය විශේෂඥ ප්‍රියංගා රණසිංහ මහත්මියද සඳහන් කළාය හොඳ සෞඛ්‍ය පුරුදු ඇතිකර ගැනීමෙන් වෛරසය පැතිරීම වළක්වා ගත හැකි බවත් ඇය පැවසූවාය සෞඛ්‍ය ප්‍රවර්ධන කාර්යාංශයේ පසුගියදා පැවැති 03දා පැවැති මාධ්‍ය හමුවකදී ඇය මේ බව පැවසූවාය මෙහිදී වැඩිදුරටත් අදහස් දැක්වූ වෛද්‍යවරිය “COVID19 නැත්නම් කොරෝනා වෛරස පිළිබඳ ලෝකයම දන්නේ තවම මාස දෙකක තුනක කාලයක් පමණයි වෛරසය පිළිබඳ විවිධ පර්යේෂණ ලෝකයේ මේ වනවිටත් සිදු කරනු ලබනවා නමුත් මේ දක්වා සිදුකරනු ලැබූ පර්යේෂණ මගින් උෂ්ණත්වය වැඩි නිසා අපේ වගේ රටවල කොරෝනා වෛරසය ව්‍යාප්ත නොවන බවට තහවුරු කරගෙන නැහැ අපේ සෞඛ්‍ය අංශ හා විවිධ අංශවලින් ගෙන ඇති පියවරයන් නිසා අපි දැනට ආරක්ෂිත වෙලා සිටිනවා නමුත් ජාත්‍යන්තර සංචාරය කියන දේ අපිට නවත්වන්නට පුළුවන්කමක් නැහැ මේවත් එක්ක ඕනෑම රටකට ඕනෑම වෙලාවක මේ වෛරසය ඇතුළු විය හැකියි මේ නිසයි සෞඛ්‍ය අමාත්‍යාංශ සියලුම මට්ටමෙන් විවිධ පියවර ගෙන තිබෙන්නේ මෙහිදී ජනතාව ලෙස අපිට වගකීම් රැසක් තිබෙනවා කොරෝනා වෛරසය බෝවෙන්නේ කහින විට හා කිවිසුම් යවනවිට විසිවෙන සෙම බිඳිති මගින් එසේනම් අපි හොඳ සෞඛ්‍ය පුරුදු අනුගමනය කරනවා නම් අපිට මෙම රෝගය බෝවන්නට ඇති හැකියාව අවමයි මේ නිසා රෝගියෙක් කහින විට කිවිසුම් යන විට ඉවත දැමිය හැකි ටිෂූ භාවිත කිරීමත් එම ටිෂූ නිසි පරිදි ආරක්ෂිතව ඉවත් කිරීමත් සිදුකළ යුතුයි තමන් ළඟ ටිෂූ කඩදාසි නොමැති අවස්ථාවක වැළමිටේ ඇතුළු පැත්තෙන් කිවිසීමේදී හා කහින විට නහය හා කට වසාගත යුතුයි එමෙන්ම හොඳින් අත සේදීම පුරුද්දක් බවට පත් කර ගත යුතුයි එයට හේතු වන්නේ යම් රෝගියෙක් කිවිසුම් යවන අවස්ථාවේ හෝ කහින අවස්ථාවේ පිටවන සෙම බිඳිති යම් පෘෂ්ඨයක තැවරී ඇති විටක එය අත ගෑවෙන පුද්ගලයෙක් තමන්ගේ මුහුණ අත ගෑම සිදුකළ විටද මෙම රෝගය බෝවන බැවින් පොදු ස්ථානවල සිටින විට මුහුණ හා ඇස් අතගෑමෙන් වැළකීමටද පුරුදු විය යුතුයි මෙවන් පුරුදුවලට අපි හුරු වීමෙන් තවදුරටත් පැතිරීම වළක්වා ගත හැකියි” විදෙස් වාර්තා  චයිනා ඩේලි පුවත් සේවයෙනි\n"
          ]
        }
      ]
    },
    {
      "cell_type": "code",
      "source": [
        "CORPUS_PATH = \"sinhala_corpus_cleaned.txt\"\n",
        "with open(CORPUS_PATH, 'w', encoding='utf-8') as f:\n",
        "    for line in cleaned_lines:\n",
        "        f.write(line + \"\\n\")\n",
        "\n",
        "print(\"Combined corpus saved to:\", CORPUS_PATH)"
      ],
      "metadata": {
        "colab": {
          "base_uri": "https://localhost:8080/"
        },
        "id": "Ab7ffMVKFpHv",
        "outputId": "fdab794c-7878-496e-8c90-5c73987435dc"
      },
      "execution_count": 7,
      "outputs": [
        {
          "output_type": "stream",
          "name": "stdout",
          "text": [
            "Combined corpus saved to: sinhala_corpus_cleaned.txt\n"
          ]
        }
      ]
    }
  ]
}